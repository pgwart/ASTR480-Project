{
 "cells": [
  {
   "cell_type": "code",
   "execution_count": 1,
   "id": "49151bb1-fd4a-4812-8971-9fad6ae02cca",
   "metadata": {},
   "outputs": [],
   "source": [
    "import numpy as np\n",
    "from astropy import units as u\n",
    "from astropy.table import Table, join\n",
    "from astropy.io import fits\n",
    "from astropy.nddata import CCDData\n",
    "from astropy.stats import mad_std, sigma_clipped_stats\n",
    "import ccdproc\n",
    "from ccdproc import ImageFileCollection, Combiner, combine\n",
    "import matplotlib.pyplot as plt\n",
    "import photutils\n",
    "from astropy.visualization import SqrtStretch\n",
    "from astropy.visualization.mpl_normalize import ImageNormalize\n",
    "from photutils.aperture import CircularAperture, CircularAnnulus, aperture_photometry \n",
    "from photutils.background import MMMBackground, MADStdBackgroundRMS\n",
    "from astropy.modeling.fitting import LevMarLSQFitter\n",
    "from astropy.stats import gaussian_sigma_to_fwhm"
   ]
  },
  {
   "cell_type": "code",
   "execution_count": 2,
   "id": "82696537-3353-45a3-b689-db786222d499",
   "metadata": {},
   "outputs": [],
   "source": [
    "#Paths updated for each galaxy\n",
    "#Not the most elegant solution, but I wanted to make sure I was using the right files\n",
    "bias_path = ImageFileCollection('Data/Bias/')\n",
    "darks_path = ImageFileCollection('Data/Darks/')\n",
    "flats_path = ImageFileCollection('Data/M64/')\n",
    "M64 = ImageFileCollection('Data/M64/')"
   ]
  },
  {
   "cell_type": "code",
   "execution_count": 3,
   "id": "5a766e1f-e77d-4f47-8bab-cc7e892f589d",
   "metadata": {},
   "outputs": [],
   "source": [
    "calibrated_biases = bias_path.files_filtered(imagetyp='bias', include_path=True)\n",
    "combined_bias = ccdproc.combine(calibrated_biases,\n",
    "                             method='average',\n",
    "                             sigma_clip=True, sigma_clip_low_thresh=5, sigma_clip_high_thresh=5,\n",
    "                             sigma_clip_func=np.ma.median, sigma_clip_dev_func=mad_std,\n",
    "                             mem_limit=350e6, unit=u.adu\n",
    "                            )\n",
    "\n",
    "combined_bias.meta['combined'] = True\n",
    "\n",
    "combined_bias.write('./Data/Reduced/combined_bias.fit', overwrite = False)"
   ]
  },
  {
   "cell_type": "code",
   "execution_count": null,
   "id": "66b1b7fe-c2d7-4637-b3da-b0ce6b089b92",
   "metadata": {},
   "outputs": [],
   "source": [
    "for flat, file_name in flats_path.ccds(imagetyp='flat', return_fname=True, ccd_kwargs=dict(unit='adu')):\n",
    "    reduced = ccdproc.subtract_bias(flat, combined_bias)\n",
    "    reduced.write('./Data/M64/Reduced/'+ file_name, overwrite = False)"
   ]
  },
  {
   "cell_type": "code",
   "execution_count": 5,
   "id": "825f2e79-962c-4983-84e5-d7cf5a275b3a",
   "metadata": {},
   "outputs": [
    {
     "name": "stderr",
     "output_type": "stream",
     "text": [
      "WARNING: FITSFixedWarning: RADECSYS= 'FK5 ' / Equatorial coordinate system \n",
      "the RADECSYS keyword is deprecated, use RADESYSa. [astropy.wcs.wcs]\n",
      "WARNING:astropy:FITSFixedWarning: RADECSYS= 'FK5 ' / Equatorial coordinate system \n",
      "the RADECSYS keyword is deprecated, use RADESYSa.\n"
     ]
    }
   ],
   "source": [
    "flat_imagetyp = 'flat'\n",
    "flats_path = ImageFileCollection('Data/M64')\n",
    "flat_filters = set(h['filter'] for h in flats_path.headers(imagetyp=flat_imagetyp))\n",
    "\n",
    "def inv_median(a):\n",
    "    return 1 / np.median(a)\n",
    "\n",
    "for filt in flat_filters:\n",
    "    to_combine = flats_path.files_filtered(imagetyp=flat_imagetyp, filter=filt, include_path=True)\n",
    "    combined_flat = ccdproc.combine(to_combine,\n",
    "                                 method='average', scale=inv_median,\n",
    "                                 sigma_clip=True, sigma_clip_low_thresh=5, sigma_clip_high_thresh=5,\n",
    "                                 sigma_clip_func=np.ma.median, signma_clip_dev_func=mad_std,\n",
    "                                 mem_limit=350e6, unit=u.adu\n",
    "                                )\n",
    "\n",
    "    combined_flat.meta['combined'] = True\n",
    "    dark_file_name = 'combined_flat_filter_{}.fit'.format(filt.replace(\"''\", \"p\"))\n",
    "    combined_flat.write('./Data/M64/Reduced/' + dark_file_name, overwrite = False)"
   ]
  },
  {
   "cell_type": "code",
   "execution_count": 6,
   "id": "89f76eb6-9f39-48aa-87a0-9bdfc646f241",
   "metadata": {},
   "outputs": [
    {
     "name": "stderr",
     "output_type": "stream",
     "text": [
      "WARNING: FITSFixedWarning: RADECSYS= 'FK5 ' / Equatorial coordinate system \n",
      "the RADECSYS keyword is deprecated, use RADESYSa. [astropy.wcs.wcs]\n",
      "WARNING:astropy:FITSFixedWarning: RADECSYS= 'FK5 ' / Equatorial coordinate system \n",
      "the RADECSYS keyword is deprecated, use RADESYSa.\n"
     ]
    }
   ],
   "source": [
    "ifc_reduced = ImageFileCollection('Data/M64/Reduced/')\n",
    "combined_flats = {ccd.header['filter']: ccd for ccd in ifc_reduced.ccds(imagetyp=flat_imagetyp, combined=True)}\n",
    "\n",
    "images = ImageFileCollection('Data/M64')"
   ]
  },
  {
   "cell_type": "code",
   "execution_count": 9,
   "id": "ea52c29e-af82-437d-8bda-d6499a4651e3",
   "metadata": {},
   "outputs": [
    {
     "name": "stderr",
     "output_type": "stream",
     "text": [
      "WARNING: FITSFixedWarning: RADECSYS= 'FK5 ' / Equatorial coordinate system \n",
      "the RADECSYS keyword is deprecated, use RADESYSa. [astropy.wcs.wcs]\n",
      "WARNING:astropy:FITSFixedWarning: RADECSYS= 'FK5 ' / Equatorial coordinate system \n",
      "the RADECSYS keyword is deprecated, use RADESYSa.\n",
      "WARNING: FITSFixedWarning: RADECSYS= 'FK5 ' / Equatorial coordinate system \n",
      "the RADECSYS keyword is deprecated, use RADESYSa. [astropy.wcs.wcs]\n",
      "WARNING:astropy:FITSFixedWarning: RADECSYS= 'FK5 ' / Equatorial coordinate system \n",
      "the RADECSYS keyword is deprecated, use RADESYSa.\n",
      "WARNING: FITSFixedWarning: RADECSYS= 'FK5 ' / Equatorial coordinate system \n",
      "the RADECSYS keyword is deprecated, use RADESYSa. [astropy.wcs.wcs]\n",
      "WARNING:astropy:FITSFixedWarning: RADECSYS= 'FK5 ' / Equatorial coordinate system \n",
      "the RADECSYS keyword is deprecated, use RADESYSa.\n",
      "WARNING: FITSFixedWarning: RADECSYS= 'FK5 ' / Equatorial coordinate system \n",
      "the RADECSYS keyword is deprecated, use RADESYSa. [astropy.wcs.wcs]\n",
      "WARNING:astropy:FITSFixedWarning: RADECSYS= 'FK5 ' / Equatorial coordinate system \n",
      "the RADECSYS keyword is deprecated, use RADESYSa.\n",
      "WARNING: FITSFixedWarning: RADECSYS= 'FK5 ' / Equatorial coordinate system \n",
      "the RADECSYS keyword is deprecated, use RADESYSa. [astropy.wcs.wcs]\n",
      "WARNING:astropy:FITSFixedWarning: RADECSYS= 'FK5 ' / Equatorial coordinate system \n",
      "the RADECSYS keyword is deprecated, use RADESYSa.\n"
     ]
    }
   ],
   "source": [
    "for light, file_name in images.ccds(imagetyp='light', return_fname=True, ccd_kwargs=dict(unit='adu')):\n",
    "    reduced = ccdproc.subtract_bias(light, combined_bias)   \n",
    "    good_flat = combined_flats[reduced.header['filter']]\n",
    "    reduced = ccdproc.flat_correct(reduced, good_flat)\n",
    "    reduced.write('./Data/M64/Reduced/' + file_name, overwrite = False)"
   ]
  }
 ],
 "metadata": {
  "kernelspec": {
   "display_name": "Python 3",
   "language": "python",
   "name": "python3"
  },
  "language_info": {
   "codemirror_mode": {
    "name": "ipython",
    "version": 3
   },
   "file_extension": ".py",
   "mimetype": "text/x-python",
   "name": "python",
   "nbconvert_exporter": "python",
   "pygments_lexer": "ipython3",
   "version": "3.8.8"
  }
 },
 "nbformat": 4,
 "nbformat_minor": 5
}
